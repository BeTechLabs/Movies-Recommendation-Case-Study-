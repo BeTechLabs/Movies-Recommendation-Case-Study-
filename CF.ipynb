{
 "cells": [
  {
   "cell_type": "markdown",
   "metadata": {},
   "source": [
    "# Collaborative Filtering"
   ]
  },
  {
   "cell_type": "markdown",
   "metadata": {},
   "source": [
    "![CF](imgs/netflixCF.png)"
   ]
  },
  {
   "cell_type": "markdown",
   "metadata": {},
   "source": [
    "## Intro\n",
    "The content based engine suffers from some severe limitations. It is only capable of suggesting movies which are close to a certain movie. That is, it is not capable of capturing tastes and providing recommendations across genres.\n",
    "\n",
    "Also, the engine that we built is not really personal in that it doesn't capture the personal tastes and biases of a user. Anyone querying our engine for recommendations based on a movie will receive the same recommendations for that movie, regardless of who she/he is."
   ]
  },
  {
   "cell_type": "code",
   "execution_count": 1,
   "metadata": {
    "collapsed": true
   },
   "outputs": [],
   "source": [
    "import pandas as pd\n",
    "import numpy as np\n",
    "from scipy.sparse.linalg import svds"
   ]
  },
  {
   "cell_type": "code",
   "execution_count": 2,
   "metadata": {
    "collapsed": true
   },
   "outputs": [],
   "source": [
    "moviesDF=pd.read_csv(\"ml-1m/movies.dat\",sep='::',engine=\"python\",header=None)\n",
    "moviesDF.columns=[\"movieId\",\"title\",\"genres\"]"
   ]
  },
  {
   "cell_type": "markdown",
   "metadata": {},
   "source": [
    "### Data Preprocessing\n",
    "\n",
    "drop unused columns and set internal movies and users unique sequential identifiers"
   ]
  },
  {
   "cell_type": "code",
   "execution_count": 3,
   "metadata": {
    "collapsed": false
   },
   "outputs": [],
   "source": [
    "def prepareDataset(myMovies):\n",
    "    print(\"======= Preparing Dataset =======\")\n",
    "    ratings = pd.read_csv('ml-1m/ratings.dat',sep='::',engine=\"python\",header=None)\n",
    "    ratings.columns=[\"userID\",\"movieID\",\"rating\",\"timestamp\"]\n",
    "    ratings.drop(columns=[\"timestamp\"],inplace=True)\n",
    "    for movie in myMovies:\n",
    "        if movie['id'] in moviesDF.movieId.values[:]:\n",
    "            ratings=ratings.append({\"userID\":0,\"movieID\":movie['id'],\"rating\":float(movie['rating'])},ignore_index=True)\n",
    "    ratings[\"movie_id\"] = ratings.movieID.astype('category').cat.codes.values\n",
    "    ratings[\"user_id\"] = ratings.userID.astype('category').cat.codes.values\n",
    "    return ratings"
   ]
  },
  {
   "cell_type": "markdown",
   "metadata": {},
   "source": [
    "### Model Building  ( ** Matrix Factorization ** )"
   ]
  },
  {
   "cell_type": "markdown",
   "metadata": {},
   "source": [
    "The idea behind such models is that attitudes or preferences of a user can be determined by a small number of hidden latent factors. These factors are also called Embeddings, which represent different characteristics for users and items. \n",
    "\n",
    "Matrix factorization can be done by various methodsincluding:\n",
    "- ** Singular Values Decomposition (SVD) **\n",
    "- Probabilistic Matrix Factorization (PMF) \n",
    "- Non-Negative Matrix Factorization (NMF)."
   ]
  },
  {
   "cell_type": "code",
   "execution_count": 4,
   "metadata": {},
   "outputs": [],
   "source": [
    "def factorizeMatrix(Ratings):\n",
    "    #Ratings = ratings.pivot(index = 'user_id', columns ='movieID', values = 'rating').fillna(0)\n",
    "    R = Ratings.as_matrix()\n",
    "    user_ratings_mean = np.mean(R, axis = 1)\n",
    "    Ratings_demeaned = R - user_ratings_mean.reshape(-1, 1)\n",
    "    U, sigma, Vt = svds(Ratings_demeaned, k = 50)\n",
    "    sigma = np.diag(sigma)\n",
    "    uSigmaProd=np.dot(U, sigma)\n",
    "    return uSigmaProd,Vt"
   ]
  },
  {
   "cell_type": "markdown",
   "metadata": {},
   "source": [
    "![svd](imgs/svd.jpg)"
   ]
  },
  {
   "cell_type": "markdown",
   "metadata": {},
   "source": [
    "- The SVD allows to describe the effect of a matrix A on a vector (via the matrix-vector product), as a three-step process A=UΣV†:\n",
    "\n",
    "    - A first rotation in the input space (V) (m x n)\n",
    "    - A simple positive scaling that takes a vector in the input space to the output space (Σ) (n x m)\n",
    "    - And another rotation in the output space (U) (m x n)\n",
    "\n",
    "    - Note that V† denotes the conjugate of V⊤, hence the two are equal when V is real.\n",
    "\n",
    "- The singular value decomposition and the eigendecomposition are closely related. Namely:\n",
    "\n",
    "    - The left-singular vectors of M are eigenvectors of MM*.\n",
    "    - The right-singular vectors of M are eigenvectors of M*M.\n",
    "    - The non-zero singular values of M (found on the diagonal entries of Σ) are the square roots of the non-zero eigenvalues of both M*M and MM*"
   ]
  },
  {
   "cell_type": "code",
   "execution_count": 5,
   "metadata": {},
   "outputs": [],
   "source": [
    "def dotProd(uSigmaProd,Vt,Ratings):\n",
    "    R = Ratings.as_matrix()\n",
    "    user_ratings_mean = np.mean(R, axis = 1)\n",
    "    vtProd=np.dot(uSigmaProd, Vt)\n",
    "    all_user_predicted_ratings = vtProd + user_ratings_mean.reshape(-1, 1)\n",
    "    preds = pd.DataFrame(all_user_predicted_ratings, columns = Ratings.columns)\n",
    "    return preds"
   ]
  },
  {
   "cell_type": "code",
   "execution_count": 6,
   "metadata": {},
   "outputs": [],
   "source": [
    "def buildModel(ratings):\n",
    "    Ratings = ratings.pivot(index = 'user_id', columns ='movieID', values = 'rating').fillna(0)\n",
    "    uSigmaProd,Vt = factorizeMatrix(Ratings)\n",
    "    return dotProd(uSigmaProd,Vt,Ratings)"
   ]
  },
  {
   "cell_type": "markdown",
   "metadata": {},
   "source": [
    "### Preparing Results"
   ]
  },
  {
   "cell_type": "code",
   "execution_count": 7,
   "metadata": {
    "collapsed": true
   },
   "outputs": [],
   "source": [
    "def recommendMovies(ratedMovies=[],num_recommendations=10):\n",
    "    original_ratings=prepareDataset(ratedMovies)\n",
    "    userID = 0\n",
    "    movies=moviesDF[['movieId', 'title','genres']]\n",
    "    preds=buildModel(original_ratings)\n",
    "    sorted_user_predictions = preds.iloc[userID].sort_values(ascending=False)\n",
    "    user_data = original_ratings[original_ratings.user_id == (userID)]\n",
    "\n",
    "    user_full = (user_data.merge(movies, how = 'left', left_on = 'movieID', right_on = 'movieId').\n",
    "                     sort_values(['rating'], ascending=False))\n",
    "    print(\"======= Finshing Recommendations =======\")\n",
    "    unratedMovies=((movies[~movies['movieId'].isin(user_full['movieID'])]))\n",
    "    \n",
    "    recommendations = unratedMovies.merge(pd.DataFrame(sorted_user_predictions).reset_index(), how = 'left',\n",
    "               left_on = 'movieId',right_on = 'movieID').rename(\n",
    "        columns = {userID: 'Predictions'}).sort_values('Predictions', ascending = False).iloc[:num_recommendations, :-1]\n",
    "    recommendations.drop(columns=['movieID'],inplace=True)\n",
    "    return recommendations"
   ]
  },
  {
   "cell_type": "code",
   "execution_count": 8,
   "metadata": {
    "collapsed": false
   },
   "outputs": [
    {
     "name": "stdout",
     "output_type": "stream",
     "text": [
      "======= Preparing Dataset =======\n",
      "======= Finshing Recommendations =======\n"
     ]
    },
    {
     "data": {
      "text/html": [
       "<div>\n",
       "<style scoped>\n",
       "    .dataframe tbody tr th:only-of-type {\n",
       "        vertical-align: middle;\n",
       "    }\n",
       "\n",
       "    .dataframe tbody tr th {\n",
       "        vertical-align: top;\n",
       "    }\n",
       "\n",
       "    .dataframe thead th {\n",
       "        text-align: right;\n",
       "    }\n",
       "</style>\n",
       "<table border=\"1\" class=\"dataframe\">\n",
       "  <thead>\n",
       "    <tr style=\"text-align: right;\">\n",
       "      <th></th>\n",
       "      <th>movieId</th>\n",
       "      <th>title</th>\n",
       "      <th>genres</th>\n",
       "    </tr>\n",
       "  </thead>\n",
       "  <tbody>\n",
       "    <tr>\n",
       "      <th>47</th>\n",
       "      <td>50</td>\n",
       "      <td>Usual Suspects, The (1995)</td>\n",
       "      <td>Crime|Thriller</td>\n",
       "    </tr>\n",
       "    <tr>\n",
       "      <th>1192</th>\n",
       "      <td>1213</td>\n",
       "      <td>GoodFellas (1990)</td>\n",
       "      <td>Crime|Drama</td>\n",
       "    </tr>\n",
       "    <tr>\n",
       "      <th>1070</th>\n",
       "      <td>1089</td>\n",
       "      <td>Reservoir Dogs (1992)</td>\n",
       "      <td>Crime|Thriller</td>\n",
       "    </tr>\n",
       "    <tr>\n",
       "      <th>601</th>\n",
       "      <td>608</td>\n",
       "      <td>Fargo (1996)</td>\n",
       "      <td>Crime|Drama|Thriller</td>\n",
       "    </tr>\n",
       "    <tr>\n",
       "      <th>586</th>\n",
       "      <td>593</td>\n",
       "      <td>Silence of the Lambs, The (1991)</td>\n",
       "      <td>Drama|Thriller</td>\n",
       "    </tr>\n",
       "    <tr>\n",
       "      <th>1572</th>\n",
       "      <td>1617</td>\n",
       "      <td>L.A. Confidential (1997)</td>\n",
       "      <td>Crime|Film-Noir|Mystery|Thriller</td>\n",
       "    </tr>\n",
       "    <tr>\n",
       "      <th>1676</th>\n",
       "      <td>1729</td>\n",
       "      <td>Jackie Brown (1997)</td>\n",
       "      <td>Crime|Drama</td>\n",
       "    </tr>\n",
       "    <tr>\n",
       "      <th>3041</th>\n",
       "      <td>3114</td>\n",
       "      <td>Toy Story 2 (1999)</td>\n",
       "      <td>Animation|Children's|Comedy</td>\n",
       "    </tr>\n",
       "    <tr>\n",
       "      <th>2195</th>\n",
       "      <td>2268</td>\n",
       "      <td>Few Good Men, A (1992)</td>\n",
       "      <td>Crime|Drama</td>\n",
       "    </tr>\n",
       "    <tr>\n",
       "      <th>288</th>\n",
       "      <td>293</td>\n",
       "      <td>Professional, The (a.k.a. Leon: The Profession...</td>\n",
       "      <td>Crime|Drama|Romance|Thriller</td>\n",
       "    </tr>\n",
       "    <tr>\n",
       "      <th>349</th>\n",
       "      <td>356</td>\n",
       "      <td>Forrest Gump (1994)</td>\n",
       "      <td>Comedy|Romance|War</td>\n",
       "    </tr>\n",
       "    <tr>\n",
       "      <th>2689</th>\n",
       "      <td>2762</td>\n",
       "      <td>Sixth Sense, The (1999)</td>\n",
       "      <td>Thriller</td>\n",
       "    </tr>\n",
       "    <tr>\n",
       "      <th>312</th>\n",
       "      <td>318</td>\n",
       "      <td>Shawshank Redemption, The (1994)</td>\n",
       "      <td>Drama</td>\n",
       "    </tr>\n",
       "    <tr>\n",
       "      <th>2318</th>\n",
       "      <td>2391</td>\n",
       "      <td>Simple Plan, A (1998)</td>\n",
       "      <td>Crime|Thriller</td>\n",
       "    </tr>\n",
       "    <tr>\n",
       "      <th>1653</th>\n",
       "      <td>1704</td>\n",
       "      <td>Good Will Hunting (1997)</td>\n",
       "      <td>Drama</td>\n",
       "    </tr>\n",
       "    <tr>\n",
       "      <th>2507</th>\n",
       "      <td>2580</td>\n",
       "      <td>Go (1999)</td>\n",
       "      <td>Crime</td>\n",
       "    </tr>\n",
       "    <tr>\n",
       "      <th>1436</th>\n",
       "      <td>1466</td>\n",
       "      <td>Donnie Brasco (1997)</td>\n",
       "      <td>Crime|Drama</td>\n",
       "    </tr>\n",
       "    <tr>\n",
       "      <th>4</th>\n",
       "      <td>6</td>\n",
       "      <td>Heat (1995)</td>\n",
       "      <td>Action|Crime|Thriller</td>\n",
       "    </tr>\n",
       "    <tr>\n",
       "      <th>765</th>\n",
       "      <td>778</td>\n",
       "      <td>Trainspotting (1996)</td>\n",
       "      <td>Drama</td>\n",
       "    </tr>\n",
       "    <tr>\n",
       "      <th>1596</th>\n",
       "      <td>1645</td>\n",
       "      <td>Devil's Advocate, The (1997)</td>\n",
       "      <td>Crime|Horror|Mystery|Thriller</td>\n",
       "    </tr>\n",
       "  </tbody>\n",
       "</table>\n",
       "</div>"
      ],
      "text/plain": [
       "     movieId                                              title  \\\n",
       "47        50                         Usual Suspects, The (1995)   \n",
       "1192    1213                                  GoodFellas (1990)   \n",
       "1070    1089                              Reservoir Dogs (1992)   \n",
       "601      608                                       Fargo (1996)   \n",
       "586      593                   Silence of the Lambs, The (1991)   \n",
       "1572    1617                           L.A. Confidential (1997)   \n",
       "1676    1729                                Jackie Brown (1997)   \n",
       "3041    3114                                 Toy Story 2 (1999)   \n",
       "2195    2268                             Few Good Men, A (1992)   \n",
       "288      293  Professional, The (a.k.a. Leon: The Profession...   \n",
       "349      356                                Forrest Gump (1994)   \n",
       "2689    2762                            Sixth Sense, The (1999)   \n",
       "312      318                   Shawshank Redemption, The (1994)   \n",
       "2318    2391                              Simple Plan, A (1998)   \n",
       "1653    1704                           Good Will Hunting (1997)   \n",
       "2507    2580                                          Go (1999)   \n",
       "1436    1466                               Donnie Brasco (1997)   \n",
       "4          6                                        Heat (1995)   \n",
       "765      778                               Trainspotting (1996)   \n",
       "1596    1645                       Devil's Advocate, The (1997)   \n",
       "\n",
       "                                genres  \n",
       "47                      Crime|Thriller  \n",
       "1192                       Crime|Drama  \n",
       "1070                    Crime|Thriller  \n",
       "601               Crime|Drama|Thriller  \n",
       "586                     Drama|Thriller  \n",
       "1572  Crime|Film-Noir|Mystery|Thriller  \n",
       "1676                       Crime|Drama  \n",
       "3041       Animation|Children's|Comedy  \n",
       "2195                       Crime|Drama  \n",
       "288       Crime|Drama|Romance|Thriller  \n",
       "349                 Comedy|Romance|War  \n",
       "2689                          Thriller  \n",
       "312                              Drama  \n",
       "2318                    Crime|Thriller  \n",
       "1653                             Drama  \n",
       "2507                             Crime  \n",
       "1436                       Crime|Drama  \n",
       "4                Action|Crime|Thriller  \n",
       "765                              Drama  \n",
       "1596     Crime|Horror|Mystery|Thriller  "
      ]
     },
     "execution_count": 8,
     "metadata": {},
     "output_type": "execute_result"
    }
   ],
   "source": [
    "#Titanic - Seven - pulb fiction - toy story\n",
    "recommendMovies([{'id':1721,'rating':1},{'id':47,'rating':3},{'id':296,'rating':3},{'id':1,'rating':1}],20)"
   ]
  }
 ],
 "metadata": {
  "kernelspec": {
   "display_name": "Python 3",
   "language": "python",
   "name": "python3"
  },
  "language_info": {
   "codemirror_mode": {
    "name": "ipython",
    "version": 3
   },
   "file_extension": ".py",
   "mimetype": "text/x-python",
   "name": "python",
   "nbconvert_exporter": "python",
   "pygments_lexer": "ipython3",
   "version": "3.6.6"
  }
 },
 "nbformat": 4,
 "nbformat_minor": 2
}
